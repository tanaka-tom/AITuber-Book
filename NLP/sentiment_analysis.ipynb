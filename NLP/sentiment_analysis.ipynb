{
 "cells": [
  {
   "cell_type": "code",
   "execution_count": null,
   "metadata": {},
   "outputs": [],
   "source": [
    "!pip install tensorflow==1.12.0"
   ]
  },
  {
   "cell_type": "code",
   "execution_count": null,
   "metadata": {},
   "outputs": [],
   "source": [
    "import pandas as pd\n",
    "import numpy as np"
   ]
  },
  {
   "cell_type": "code",
   "execution_count": null,
   "metadata": {},
   "outputs": [],
   "source": [
    "import pandas as pd\n",
    "DATASET_FILE_NAME = \"../input/sentiment140/training.\\\n",
    "1600000.processed.noemoticon.csv\"\n",
    "DATASET_ENCODING = \"ISO-8859-1\"\n",
    "DATASET_COLUMNS = [\"target\", \"ids\", \"date\", \"flag\", \"user\", \"text\"]\n",
    "\n",
    "df = pd.read_csv(\n",
    "            DATASET_FILE_NAME,\n",
    "            encoding=DATASET_ENCODING,\n",
    "            names=DATASET_COLUMNS)"
   ]
  },
  {
   "cell_type": "code",
   "execution_count": null,
   "metadata": {},
   "outputs": [],
   "source": [
    "df.head()"
   ]
  },
  {
   "cell_type": "code",
   "execution_count": null,
   "metadata": {},
   "outputs": [],
   "source": [
    "df.target.value_counts()"
   ]
  },
  {
   "cell_type": "code",
   "execution_count": null,
   "metadata": {},
   "outputs": [],
   "source": [
    "import re\n",
    "import from nltk.corpus import stopwords\n",
    "\n",
    "stop_words = stopwords.words(\"english\") \n",
    "\n",
    "def preprocess(text):\n",
    "    text = text.lower()\n",
    "    text = re.sub(r\"@\\S+|https?:\\S+|http?:\\S|[^A-Za-z0-9]+\", \" \", text)\n",
    "    text.strip()\n",
    "    tokens = []\n",
    "    for token in text.split():\n",
    "        if token not in stop_words:\n",
    "            tokens.append(token)\n",
    "    return \" \".join(tokens)\n",
    "\n",
    "df.text = df.text.apply(lambda x: preprocess(x))"
   ]
  },
  {
   "cell_type": "code",
   "execution_count": null,
   "metadata": {},
   "outputs": [],
   "source": [
    "from sklearn.model_selection import train_test_split\n",
    "\n",
    "df_train, df_test = train_test_split(df, test_size=0.2, random_state=42)"
   ]
  },
  {
   "cell_type": "code",
   "execution_count": null,
   "metadata": {},
   "outputs": [],
   "source": [
    "import gensim\n",
    "\n",
    "W2V_SIZE = 300\n",
    "\n",
    "w2v_model = gensim.models.word2vec.Word2Vec(\n",
    "                                    size=W2V_SIZE,\n",
    "                                    window=7,\n",
    "                                    min_count=10,\n",
    "                                    workers=4)\n",
    "sentences = [x.split() for x in df_train.text]\n",
    "w2v_model.build_vocab(sentences)\n",
    "w2v_model.train(sentences, total_examples=len(sentences), epochs=32)"
   ]
  },
  {
   "cell_type": "code",
   "execution_count": null,
   "metadata": {},
   "outputs": [],
   "source": [
    "w2v_model.wv.most_similar(\"happy\")"
   ]
  },
  {
   "cell_type": "code",
   "execution_count": null,
   "metadata": {},
   "outputs": [],
   "source": [
    "from tensorflow.keras.preprocessing.text import Tokenizer\n",
    "\n",
    "tokenizer = Tokenizer()\n",
    "tokenizer.fit_on_texts(df_train.text)"
   ]
  },
  {
   "cell_type": "code",
   "execution_count": null,
   "metadata": {},
   "outputs": [],
   "source": [
    "from tensorflow.keras.preprocessing.sequence import pad_sequences\n",
    "\n",
    "SEQUENCE_LENGTH = 300\n",
    "x_train = pad_sequences(\n",
    "            tokenizer.texts_to_sequences(df_train.text),\n",
    "            maxlen=SEQUENCE_LENGTH)\n",
    "x_test = pad_sequences(\n",
    "            tokenizer.texts_to_sequences(df_test.text),\n",
    "            maxlen=SEQUENCE_LENGTH)"
   ]
  },
  {
   "cell_type": "code",
   "execution_count": null,
   "metadata": {},
   "outputs": [],
   "source": [
    "y_train = np.array(list(map(\n",
    "                    lambda x: 0 if x == 0 else 1,\n",
    "                    df_train.target.values)))\n",
    "y_test = np.array(list(map(\n",
    "                    lambda x: 0 if x == 0 else 1,\n",
    "                    df_test.target.values)))\n",
    "y_train = y_train.reshape(-1,1)\n",
    "y_test = y_test.reshape(-1,1)"
   ]
  },
  {
   "cell_type": "code",
   "execution_count": null,
   "metadata": {},
   "outputs": [],
   "source": [
    "print(\"x_train\", x_train.shape)\n",
    "print(\"y_train\", y_train.shape)\n",
    "print(\"x_test\", x_test.shape)\n",
    "print(\"y_test\", y_test.shape)"
   ]
  },
  {
   "cell_type": "code",
   "execution_count": null,
   "metadata": {},
   "outputs": [],
   "source": [
    "from tensorflow.keras.layers import Embedding\n",
    "\n",
    "vocab_size = len(tokenizer.word_index) + 1\n",
    "embedding_matrix = np.zeros((vocab_size, W2V_SIZE))\n",
    "\n",
    "for word, i in tokenizer.word_index.items():\n",
    "  if word in w2v_model.wv:\n",
    "    embedding_matrix[i] = w2v_model.wv[word]\n",
    "\n",
    "print(embedding_matrix.shape)\n",
    "\n",
    "embedding_layer = Embedding(\n",
    "                    vocab_size,\n",
    "                    W2V_SIZE,\n",
    "                    weights=[embedding_matrix],\n",
    "                    input_length=SEQUENCE_LENGTH,\n",
    "                    trainable=False)"
   ]
  },
  {
   "cell_type": "code",
   "execution_count": null,
   "metadata": {},
   "outputs": [],
   "source": [
    "from tensorflow.keras.layers import Dropout, LSTM, Dense, Input\n",
    "from tensorflow.keras.models import Model\n",
    "\n",
    "inputs = Input(shape=(SEQUENCE_LENGTH,))\n",
    "embedded = embedding_layer(inputs)\n",
    "dropout = Dropout(0.5)(embedded)\n",
    "lstm = LSTM(100, dropout=0.2, recurrent_dropout=0.2)(dropout)\n",
    "outputs = Dense(1, activation=\"sigmoid\")(lstm)\n",
    "model = Model(inputs=inputs, outputs=outputs)"
   ]
  },
  {
   "cell_type": "code",
   "execution_count": null,
   "metadata": {},
   "outputs": [],
   "source": [
    "model.summary()"
   ]
  },
  {
   "cell_type": "code",
   "execution_count": null,
   "metadata": {},
   "outputs": [],
   "source": [
    "from tensorflow.keras.utils import plot_model\n",
    "\n",
    "plot_model(model, to_file=\"sa_model.png\")"
   ]
  },
  {
   "cell_type": "code",
   "execution_count": null,
   "metadata": {},
   "outputs": [],
   "source": [
    "model.compile(loss=\"binary_crossentropy\",\n",
    "              optimizer=\"adam\",\n",
    "              metrics=[\"accuracy\"])"
   ]
  },
  {
   "cell_type": "code",
   "execution_count": null,
   "metadata": {},
   "outputs": [],
   "source": [
    "model.fit(x_train, y_train,\n",
    "            batch_size=256,\n",
    "            epochs=3,\n",
    "            validation_split=0.1,\n",
    "            verbose=1)"
   ]
  },
  {
   "cell_type": "code",
   "execution_count": null,
   "metadata": {},
   "outputs": [],
   "source": [
    "model.save(\"sa_model.h5\")"
   ]
  },
  {
   "cell_type": "code",
   "execution_count": null,
   "metadata": {},
   "outputs": [],
   "source": [
    "from tensorflow.keras.callbacks import (\n",
    "                                ReduceLROnPlateau,\n",
    "                                EarlyStopping)\n",
    "\n",
    "callbacks = [ ReduceLROnPlateau(\n",
    "                    monitor=\"val_loss\",\n",
    "                    patience=5,\n",
    "                    cooldown=0),\n",
    "              EarlyStopping(\n",
    "                    monitor=\"val_acc\",\n",
    "                    min_delta=1e-4,\n",
    "                    patience=5)]"
   ]
  },
  {
   "cell_type": "code",
   "execution_count": null,
   "metadata": {},
   "outputs": [],
   "source": [
    "model.fit(x_train, y_train,\n",
    "            batch_size=256,\n",
    "            epochs=3,\n",
    "            validation_split=0.1,\n",
    "            verbose=1,\n",
    "            callbacks=callbacks)"
   ]
  },
  {
   "cell_type": "code",
   "execution_count": null,
   "metadata": {},
   "outputs": [],
   "source": [
    "def decode_sentiment(score):\n",
    "    label = \"NEUTRAL\"\n",
    "    if score <= 0.4:\n",
    "        label = \"NEGATIVE\"\n",
    "    elif score >= 0.7:\n",
    "        label = \"POSITIVE\"\n",
    "    return label\n",
    "\n",
    "def predict(text):\n",
    "    x_test = pad_sequences(\n",
    "                tokenizer.texts_to_sequences([text]),\n",
    "                maxlen=SEQUENCE_LENGTH)\n",
    "    score = model.predict([x_test])[0]\n",
    "    label = decode_sentiment(score)\n",
    "    return {\"label\": label, \"score\": float(score)}"
   ]
  },
  {
   "cell_type": "code",
   "execution_count": null,
   "metadata": {},
   "outputs": [],
   "source": [
    "print(predict(\"We’re going to have Tom’s birthday party today, so join us!\"))\n",
    "print(predict(\"It’s going to be too late to return home.\"))"
   ]
  }
 ],
 "metadata": {
  "kernelspec": {
   "display_name": "Python 3",
   "language": "python",
   "name": "python3"
  },
  "language_info": {
   "codemirror_mode": {
    "name": "ipython",
    "version": 3
   },
   "file_extension": ".py",
   "mimetype": "text/x-python",
   "name": "python",
   "nbconvert_exporter": "python",
   "pygments_lexer": "ipython3",
   "version": "3.7.4"
  }
 },
 "nbformat": 4,
 "nbformat_minor": 2
}
